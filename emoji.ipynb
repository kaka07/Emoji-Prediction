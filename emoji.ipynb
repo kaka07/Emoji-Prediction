{
 "cells": [
  {
   "cell_type": "code",
   "execution_count": 2,
   "metadata": {},
   "outputs": [],
   "source": [
    "import numpy as np\n",
    "import pandas as pd"
   ]
  },
  {
   "cell_type": "code",
   "execution_count": 53,
   "metadata": {},
   "outputs": [],
   "source": [
    "train=pd.read_csv('train_emoji.csv',header=None)\n",
    "test=pd.read_csv('test_emoji.csv',header=None)"
   ]
  },
  {
   "cell_type": "code",
   "execution_count": 54,
   "metadata": {},
   "outputs": [
    {
     "data": {
      "text/html": [
       "<div>\n",
       "<style scoped>\n",
       "    .dataframe tbody tr th:only-of-type {\n",
       "        vertical-align: middle;\n",
       "    }\n",
       "\n",
       "    .dataframe tbody tr th {\n",
       "        vertical-align: top;\n",
       "    }\n",
       "\n",
       "    .dataframe thead th {\n",
       "        text-align: right;\n",
       "    }\n",
       "</style>\n",
       "<table border=\"1\" class=\"dataframe\">\n",
       "  <thead>\n",
       "    <tr style=\"text-align: right;\">\n",
       "      <th></th>\n",
       "      <th>0</th>\n",
       "      <th>1</th>\n",
       "      <th>2</th>\n",
       "      <th>3</th>\n",
       "    </tr>\n",
       "  </thead>\n",
       "  <tbody>\n",
       "    <tr>\n",
       "      <th>0</th>\n",
       "      <td>never talk to me again</td>\n",
       "      <td>3</td>\n",
       "      <td>NaN</td>\n",
       "      <td>NaN</td>\n",
       "    </tr>\n",
       "    <tr>\n",
       "      <th>1</th>\n",
       "      <td>I am proud of your achievements</td>\n",
       "      <td>2</td>\n",
       "      <td>NaN</td>\n",
       "      <td>NaN</td>\n",
       "    </tr>\n",
       "    <tr>\n",
       "      <th>2</th>\n",
       "      <td>It is the worst day in my life</td>\n",
       "      <td>3</td>\n",
       "      <td>NaN</td>\n",
       "      <td>NaN</td>\n",
       "    </tr>\n",
       "    <tr>\n",
       "      <th>3</th>\n",
       "      <td>Miss you so much</td>\n",
       "      <td>0</td>\n",
       "      <td>NaN</td>\n",
       "      <td>[0]</td>\n",
       "    </tr>\n",
       "    <tr>\n",
       "      <th>4</th>\n",
       "      <td>food is life</td>\n",
       "      <td>4</td>\n",
       "      <td>NaN</td>\n",
       "      <td>NaN</td>\n",
       "    </tr>\n",
       "  </tbody>\n",
       "</table>\n",
       "</div>"
      ],
      "text/plain": [
       "                                 0  1   2     3\n",
       "0           never talk to me again  3 NaN   NaN\n",
       "1  I am proud of your achievements  2 NaN   NaN\n",
       "2   It is the worst day in my life  3 NaN   NaN\n",
       "3                 Miss you so much  0 NaN   [0]\n",
       "4                     food is life  4 NaN   NaN"
      ]
     },
     "execution_count": 54,
     "metadata": {},
     "output_type": "execute_result"
    }
   ],
   "source": [
    "train.head()"
   ]
  },
  {
   "cell_type": "code",
   "execution_count": 55,
   "metadata": {},
   "outputs": [],
   "source": [
    "import emoji as emoji"
   ]
  },
  {
   "cell_type": "code",
   "execution_count": 56,
   "metadata": {},
   "outputs": [],
   "source": [
    "emoji_dictionary = {\"0\": \"\\u2764\\uFE0F\",    # :heart: prints a black instead of red heart depending on the font\n",
    "                    \"1\": \":baseball:\",\n",
    "                    \"2\": \":beaming_face_with_smiling_eyes:\",\n",
    "                    \"3\": \":downcast_face_with_sweat:\",\n",
    "                    \"4\": \":fork_and_knife:\",\n",
    "                   }"
   ]
  },
  {
   "cell_type": "code",
   "execution_count": 57,
   "metadata": {},
   "outputs": [
    {
     "data": {
      "text/plain": [
       "'🍴'"
      ]
     },
     "execution_count": 57,
     "metadata": {},
     "output_type": "execute_result"
    }
   ],
   "source": [
    "emoji.emojize(\":fork_and_knife:\")"
   ]
  },
  {
   "cell_type": "code",
   "execution_count": 58,
   "metadata": {},
   "outputs": [
    {
     "name": "stdout",
     "output_type": "stream",
     "text": [
      "❤️\n",
      "⚾\n",
      "😁\n",
      "😓\n",
      "🍴\n"
     ]
    }
   ],
   "source": [
    "for e in emoji_dictionary.values():\n",
    "    print(emoji.emojize(e))"
   ]
  },
  {
   "cell_type": "code",
   "execution_count": 66,
   "metadata": {},
   "outputs": [
    {
     "name": "stdout",
     "output_type": "stream",
     "text": [
      "never talk to me again 😓\n",
      "I am proud of your achievements 😁\n",
      "It is the worst day in my life 😓\n",
      "Miss you so much ❤️\n",
      "food is life 🍴\n",
      "I love you mum ❤️\n",
      "Stop saying bullshit 😓\n",
      "congratulations on your acceptance 😁\n",
      "The assignment is too long  😓\n",
      "I want to go play ⚾\n"
     ]
    }
   ],
   "source": [
    "data = train.values\n",
    "for i in range(10):\n",
    "    print(data[i][0],emoji.emojize(emoji_dictionary[str(data[i][1])]))"
   ]
  },
  {
   "cell_type": "code",
   "execution_count": 67,
   "metadata": {},
   "outputs": [],
   "source": [
    "from keras.utils import to_categorical"
   ]
  },
  {
   "cell_type": "code",
   "execution_count": 73,
   "metadata": {},
   "outputs": [
    {
     "name": "stdout",
     "output_type": "stream",
     "text": [
      "(132,)\n",
      "(56,)\n",
      "(132, 5)\n",
      "(56, 5)\n"
     ]
    }
   ],
   "source": [
    "XT=train[0]\n",
    "Xt=test[0]\n",
    "\n",
    "YT=to_categorical(train[1])\n",
    "Yt=to_categorical(test[1])\n",
    "\n",
    "print(XT.shape)\n",
    "print(Xt.shape)\n",
    "print(YT.shape)\n",
    "print(Yt.shape)"
   ]
  },
  {
   "cell_type": "code",
   "execution_count": 78,
   "metadata": {},
   "outputs": [],
   "source": [
    "embeddings={}\n",
    "with open('./saved/glove.6B.50d.txt',encoding='utf-8')as f:\n",
    "    for line in f:\n",
    "        values=line.split()\n",
    "        word=values[0]\n",
    "        coeffs=np.asarray(values[1:],dtype='float32')\n",
    "        \n",
    "        #print(word)\n",
    "        #print(coeffs)\n",
    "        embeddings[word]=coeffs"
   ]
  },
  {
   "cell_type": "code",
   "execution_count": 79,
   "metadata": {},
   "outputs": [],
   "source": [
    "def getOutputEmbeddings(X):\n",
    "    embedding_matrix_output=np.zeros((X.shape[0],10,50))\n",
    "    for ix in range(X.shape[0]):\n",
    "        X[ix]=X[ix].split()\n",
    "        for jx in range(len(X[ix])):\n",
    "            embedding_matrix_output[ix][jx]=embeddings[X[ix][jx].lower()]\n",
    "    return embedding_matrix_output"
   ]
  },
  {
   "cell_type": "code",
   "execution_count": 80,
   "metadata": {},
   "outputs": [
    {
     "name": "stderr",
     "output_type": "stream",
     "text": [
      "c:\\users\\hp\\python\\python37\\lib\\site-packages\\ipykernel_launcher.py:4: SettingWithCopyWarning: \n",
      "A value is trying to be set on a copy of a slice from a DataFrame\n",
      "\n",
      "See the caveats in the documentation: http://pandas.pydata.org/pandas-docs/stable/indexing.html#indexing-view-versus-copy\n",
      "  after removing the cwd from sys.path.\n"
     ]
    }
   ],
   "source": [
    "emb_XT=getOutputEmbeddings(XT)\n",
    "emb_Xt=getOutputEmbeddings(Xt)"
   ]
  },
  {
   "cell_type": "code",
   "execution_count": 84,
   "metadata": {},
   "outputs": [],
   "source": [
    "from keras.layers import *\n",
    "from keras.models import Sequential"
   ]
  },
  {
   "cell_type": "code",
   "execution_count": 85,
   "metadata": {},
   "outputs": [
    {
     "name": "stderr",
     "output_type": "stream",
     "text": [
      "W0430 18:45:52.667671  5732 deprecation_wrapper.py:119] From c:\\users\\hp\\python\\python37\\lib\\site-packages\\keras\\backend\\tensorflow_backend.py:517: The name tf.placeholder is deprecated. Please use tf.compat.v1.placeholder instead.\n",
      "\n",
      "W0430 18:45:52.672702  5732 deprecation_wrapper.py:119] From c:\\users\\hp\\python\\python37\\lib\\site-packages\\keras\\backend\\tensorflow_backend.py:4138: The name tf.random_uniform is deprecated. Please use tf.random.uniform instead.\n",
      "\n",
      "W0430 18:45:53.125277  5732 deprecation_wrapper.py:119] From c:\\users\\hp\\python\\python37\\lib\\site-packages\\keras\\backend\\tensorflow_backend.py:133: The name tf.placeholder_with_default is deprecated. Please use tf.compat.v1.placeholder_with_default instead.\n",
      "\n",
      "W0430 18:45:53.144304  5732 deprecation.py:506] From c:\\users\\hp\\python\\python37\\lib\\site-packages\\keras\\backend\\tensorflow_backend.py:3445: calling dropout (from tensorflow.python.ops.nn_ops) with keep_prob is deprecated and will be removed in a future version.\n",
      "Instructions for updating:\n",
      "Please use `rate` instead of `keep_prob`. Rate should be set to `rate = 1 - keep_prob`.\n"
     ]
    },
    {
     "name": "stdout",
     "output_type": "stream",
     "text": [
      "_________________________________________________________________\n",
      "Layer (type)                 Output Shape              Param #   \n",
      "=================================================================\n",
      "lstm_1 (LSTM)                (None, 10, 64)            29440     \n",
      "_________________________________________________________________\n",
      "dropout_1 (Dropout)          (None, 10, 64)            0         \n",
      "_________________________________________________________________\n",
      "lstm_2 (LSTM)                (None, 64)                33024     \n",
      "_________________________________________________________________\n",
      "dropout_2 (Dropout)          (None, 64)                0         \n",
      "_________________________________________________________________\n",
      "dense_1 (Dense)              (None, 5)                 325       \n",
      "_________________________________________________________________\n",
      "activation_1 (Activation)    (None, 5)                 0         \n",
      "=================================================================\n",
      "Total params: 62,789\n",
      "Trainable params: 62,789\n",
      "Non-trainable params: 0\n",
      "_________________________________________________________________\n"
     ]
    }
   ],
   "source": [
    "\n",
    "model = Sequential()\n",
    "model.add(LSTM(64,input_shape=(10,50),return_sequences=True))\n",
    "model.add(Dropout(0.4))\n",
    "model.add(LSTM(64,input_shape=(10,50)))\n",
    "model.add(Dropout(0.3))\n",
    "model.add(Dense(5))\n",
    "model.add(Activation('softmax'))\n",
    "model.summary()"
   ]
  },
  {
   "cell_type": "code",
   "execution_count": 96,
   "metadata": {},
   "outputs": [
    {
     "name": "stdout",
     "output_type": "stream",
     "text": [
      "Train on 118 samples, validate on 14 samples\n",
      "Epoch 1/40\n",
      "118/118 [==============================] - 5s 46ms/step - loss: 0.1750 - acc: 0.9661 - val_loss: 0.7860 - val_acc: 0.8571\n",
      "Epoch 2/40\n",
      "118/118 [==============================] - 0s 1ms/step - loss: 0.2688 - acc: 0.9068 - val_loss: 0.9835 - val_acc: 0.7857\n",
      "Epoch 3/40\n",
      "118/118 [==============================] - 0s 998us/step - loss: 0.0945 - acc: 0.9746 - val_loss: 2.7259 - val_acc: 0.5000\n",
      "Epoch 4/40\n",
      "118/118 [==============================] - 0s 1ms/step - loss: 0.2686 - acc: 0.9153 - val_loss: 1.1667 - val_acc: 0.7143\n",
      "Epoch 5/40\n",
      "118/118 [==============================] - 0s 964us/step - loss: 0.0575 - acc: 0.9831 - val_loss: 0.7982 - val_acc: 0.8571\n",
      "Epoch 6/40\n",
      "118/118 [==============================] - 0s 973us/step - loss: 0.1162 - acc: 0.9746 - val_loss: 0.8623 - val_acc: 0.8571\n",
      "Epoch 7/40\n",
      "118/118 [==============================] - 0s 1ms/step - loss: 0.0752 - acc: 0.9746 - val_loss: 1.0981 - val_acc: 0.7857\n",
      "Epoch 8/40\n",
      "118/118 [==============================] - 0s 972us/step - loss: 0.0753 - acc: 0.9746 - val_loss: 1.5906 - val_acc: 0.6429\n",
      "Epoch 9/40\n",
      "118/118 [==============================] - 0s 1ms/step - loss: 0.0867 - acc: 0.9746 - val_loss: 1.3210 - val_acc: 0.6429\n",
      "Epoch 10/40\n",
      "118/118 [==============================] - 0s 1ms/step - loss: 0.0398 - acc: 1.0000 - val_loss: 0.9867 - val_acc: 0.7857\n",
      "Epoch 11/40\n",
      "118/118 [==============================] - 0s 910us/step - loss: 0.0558 - acc: 0.9831 - val_loss: 0.9645 - val_acc: 0.7857\n",
      "Epoch 12/40\n",
      "118/118 [==============================] - 0s 994us/step - loss: 0.0262 - acc: 1.0000 - val_loss: 1.0775 - val_acc: 0.7857\n",
      "Epoch 13/40\n",
      "118/118 [==============================] - 0s 1ms/step - loss: 0.0237 - acc: 1.0000 - val_loss: 1.1874 - val_acc: 0.7857\n",
      "Epoch 14/40\n",
      "118/118 [==============================] - 0s 1ms/step - loss: 0.0200 - acc: 1.0000 - val_loss: 1.2698 - val_acc: 0.7857\n",
      "Epoch 15/40\n",
      "118/118 [==============================] - 0s 1ms/step - loss: 0.0141 - acc: 1.0000 - val_loss: 1.4553 - val_acc: 0.5714\n",
      "Epoch 16/40\n",
      "118/118 [==============================] - 0s 1ms/step - loss: 0.0202 - acc: 0.9915 - val_loss: 1.3738 - val_acc: 0.6429\n",
      "Epoch 17/40\n",
      "118/118 [==============================] - 0s 1ms/step - loss: 0.0124 - acc: 1.0000 - val_loss: 1.2436 - val_acc: 0.7857\n",
      "Epoch 18/40\n",
      "118/118 [==============================] - 0s 2ms/step - loss: 0.0119 - acc: 1.0000 - val_loss: 1.2094 - val_acc: 0.7857\n",
      "Epoch 19/40\n",
      "118/118 [==============================] - 0s 2ms/step - loss: 0.0100 - acc: 1.0000 - val_loss: 1.2070 - val_acc: 0.7857\n",
      "Epoch 20/40\n",
      "118/118 [==============================] - 0s 2ms/step - loss: 0.0110 - acc: 1.0000 - val_loss: 1.2445 - val_acc: 0.7857\n",
      "Epoch 21/40\n",
      "118/118 [==============================] - 0s 2ms/step - loss: 0.0130 - acc: 1.0000 - val_loss: 1.2619 - val_acc: 0.7857\n",
      "Epoch 22/40\n",
      "118/118 [==============================] - 0s 2ms/step - loss: 0.0061 - acc: 1.0000 - val_loss: 1.3172 - val_acc: 0.7143\n",
      "Epoch 23/40\n",
      "118/118 [==============================] - 0s 2ms/step - loss: 0.0068 - acc: 1.0000 - val_loss: 1.4265 - val_acc: 0.7143\n",
      "Epoch 24/40\n",
      "118/118 [==============================] - 0s 1ms/step - loss: 0.0089 - acc: 1.0000 - val_loss: 1.5355 - val_acc: 0.7143\n",
      "Epoch 25/40\n",
      "118/118 [==============================] - 0s 840us/step - loss: 0.0111 - acc: 1.0000 - val_loss: 1.4349 - val_acc: 0.6429\n",
      "Epoch 26/40\n",
      "118/118 [==============================] - 0s 1ms/step - loss: 0.0068 - acc: 1.0000 - val_loss: 1.3504 - val_acc: 0.7143\n",
      "Epoch 27/40\n",
      "118/118 [==============================] - 0s 929us/step - loss: 0.0060 - acc: 1.0000 - val_loss: 1.2846 - val_acc: 0.7857\n",
      "Epoch 28/40\n",
      "118/118 [==============================] - 0s 1ms/step - loss: 0.0074 - acc: 1.0000 - val_loss: 1.2511 - val_acc: 0.7857\n",
      "Epoch 29/40\n",
      "118/118 [==============================] - 0s 1ms/step - loss: 0.0044 - acc: 1.0000 - val_loss: 1.2268 - val_acc: 0.7857\n",
      "Epoch 30/40\n",
      "118/118 [==============================] - 0s 992us/step - loss: 0.0102 - acc: 1.0000 - val_loss: 1.3568 - val_acc: 0.7143\n",
      "Epoch 31/40\n",
      "118/118 [==============================] - 0s 836us/step - loss: 0.0111 - acc: 1.0000 - val_loss: 1.4332 - val_acc: 0.7143\n",
      "Epoch 32/40\n",
      "118/118 [==============================] - 0s 1ms/step - loss: 0.0065 - acc: 1.0000 - val_loss: 1.4077 - val_acc: 0.7857\n",
      "Epoch 33/40\n",
      "118/118 [==============================] - 0s 1ms/step - loss: 0.0121 - acc: 1.0000 - val_loss: 1.2787 - val_acc: 0.7857\n",
      "Epoch 34/40\n",
      "118/118 [==============================] - 0s 1ms/step - loss: 0.0049 - acc: 1.0000 - val_loss: 1.3225 - val_acc: 0.7143\n",
      "Epoch 35/40\n",
      "118/118 [==============================] - 0s 1ms/step - loss: 0.0491 - acc: 0.9915 - val_loss: 1.3833 - val_acc: 0.7857\n",
      "Epoch 36/40\n",
      "118/118 [==============================] - 0s 1ms/step - loss: 0.0056 - acc: 1.0000 - val_loss: 1.5779 - val_acc: 0.7143\n",
      "Epoch 37/40\n",
      "118/118 [==============================] - 0s 1ms/step - loss: 0.0592 - acc: 0.9746 - val_loss: 1.1397 - val_acc: 0.8571\n",
      "Epoch 38/40\n",
      "118/118 [==============================] - 0s 1ms/step - loss: 0.0137 - acc: 1.0000 - val_loss: 1.2310 - val_acc: 0.7143\n",
      "Epoch 39/40\n",
      "118/118 [==============================] - 0s 1ms/step - loss: 0.0446 - acc: 0.9831 - val_loss: 1.7807 - val_acc: 0.7143\n",
      "Epoch 40/40\n",
      "118/118 [==============================] - 0s 1ms/step - loss: 0.0139 - acc: 1.0000 - val_loss: 1.8425 - val_acc: 0.5714\n"
     ]
    },
    {
     "data": {
      "text/plain": [
       "<keras.callbacks.History at 0x1e84418e2e8>"
      ]
     },
     "execution_count": 96,
     "metadata": {},
     "output_type": "execute_result"
    }
   ],
   "source": [
    "\n",
    "model.compile(optimizer='adam',loss='categorical_crossentropy',metrics=['acc'])\n",
    "model.fit(emb_XT,YT,batch_size=32,epochs=40,shuffle=True,validation_split=0.1)"
   ]
  },
  {
   "cell_type": "code",
   "execution_count": 97,
   "metadata": {},
   "outputs": [
    {
     "name": "stdout",
     "output_type": "stream",
     "text": [
      "56/56 [==============================] - 0s 338us/step\n"
     ]
    },
    {
     "data": {
      "text/plain": [
       "[2.5362291165760587, 0.6071428656578064]"
      ]
     },
     "execution_count": 97,
     "metadata": {},
     "output_type": "execute_result"
    }
   ],
   "source": [
    "model.evaluate(emb_Xt,Yt)"
   ]
  },
  {
   "cell_type": "code",
   "execution_count": 98,
   "metadata": {},
   "outputs": [],
   "source": [
    "pred = model.predict_classes(emb_Xt)"
   ]
  },
  {
   "cell_type": "code",
   "execution_count": 99,
   "metadata": {},
   "outputs": [
    {
     "name": "stdout",
     "output_type": "stream",
     "text": [
      "I want to eat\n",
      "🍴\n",
      "🍴\n",
      "he did not answer\n",
      "😓\n",
      "😓\n",
      "he got a raise\n",
      "😁\n",
      "⚾\n",
      "she got me a present\n",
      "❤️\n",
      "❤️\n",
      "ha ha ha it was so funny\n",
      "😁\n",
      "😁\n",
      "he is a good friend\n",
      "❤️\n",
      "😁\n",
      "I am upset\n",
      "❤️\n",
      "😓\n",
      "We had such a lovely dinner tonight\n",
      "❤️\n",
      "😁\n",
      "where is the food\n",
      "🍴\n",
      "🍴\n",
      "Stop making this joke ha ha ha\n",
      "😁\n",
      "😁\n",
      "where is the ball\n",
      "⚾\n",
      "⚾\n",
      "work is hard\n",
      "😓\n",
      "😁\n",
      "This girl is messing with me\n",
      "😓\n",
      "❤️\n",
      "are you serious ha ha\n",
      "😁\n",
      "😓\n",
      "Let us go play baseball\n",
      "⚾\n",
      "⚾\n",
      "This stupid grader is not working\n",
      "😓\n",
      "😓\n",
      "work is horrible\n",
      "😓\n",
      "😁\n",
      "Congratulation for having a baby\n",
      "😁\n",
      "😁\n",
      "stop messing around\n",
      "😓\n",
      "😓\n",
      "any suggestions for dinner\n",
      "🍴\n",
      "😁\n",
      "I love taking breaks\n",
      "❤️\n",
      "😁\n",
      "you brighten my day\n",
      "😁\n",
      "😁\n",
      "I boiled rice\n",
      "🍴\n",
      "🍴\n",
      "she is a bully\n",
      "😓\n",
      "❤️\n",
      "Why are you feeling bad\n",
      "😓\n",
      "😓\n",
      "I am upset\n",
      "😓\n",
      "😓\n",
      "I worked during my birthday\n",
      "😓\n",
      "😁\n",
      "My grandmother is the love of my life\n",
      "❤️\n",
      "❤️\n",
      "enjoy your break\n",
      "😁\n",
      "⚾\n",
      "valentine day is near\n",
      "❤️\n",
      "😁\n"
     ]
    }
   ],
   "source": [
    "for i in range(30):\n",
    "    print(' '.join(Xt[i]))\n",
    "    print(emoji.emojize(emoji_dictionary[str(np.argmax(Yt[i]))]))\n",
    "    print(emoji.emojize(emoji_dictionary[str(pred[i])]))"
   ]
  },
  {
   "cell_type": "code",
   "execution_count": null,
   "metadata": {},
   "outputs": [],
   "source": []
  }
 ],
 "metadata": {
  "kernelspec": {
   "display_name": "Python 3",
   "language": "python",
   "name": "python3"
  },
  "language_info": {
   "codemirror_mode": {
    "name": "ipython",
    "version": 3
   },
   "file_extension": ".py",
   "mimetype": "text/x-python",
   "name": "python",
   "nbconvert_exporter": "python",
   "pygments_lexer": "ipython3",
   "version": "3.7.3"
  }
 },
 "nbformat": 4,
 "nbformat_minor": 2
}
